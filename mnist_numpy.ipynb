{
 "cells": [
  {
   "cell_type": "code",
   "execution_count": 1,
   "id": "169a9a06",
   "metadata": {},
   "outputs": [
    {
     "name": "stdout",
     "output_type": "stream",
     "text": [
      "Populating the interactive namespace from numpy and matplotlib\n"
     ]
    }
   ],
   "source": [
    "%pylab inline\n",
    "import warnings\n",
    "import numpy as np\n",
    "from tqdm import trange\n",
    "from mnist_util import fetch#, plot, imshow\n",
    "np.set_printoptions(suppress=True)\n",
    "warnings.filterwarnings('ignore')"
   ]
  },
  {
   "cell_type": "code",
   "execution_count": 2,
   "id": "88fab401",
   "metadata": {},
   "outputs": [
    {
     "name": "stdout",
     "output_type": "stream",
     "text": [
      "3\n"
     ]
    },
    {
     "data": {
      "text/plain": [
       "<matplotlib.image.AxesImage at 0x12603e5b0>"
      ]
     },
     "execution_count": 2,
     "metadata": {},
     "output_type": "execute_result"
    },
    {
     "data": {
      "image/png": "[encoded data removed]",
      "text/plain": [
       "<Figure size 432x288 with 1 Axes>"
      ]
     },
     "metadata": {
      "needs_background": "light"
     },
     "output_type": "display_data"
    }
   ],
   "source": [
    "# data starts at offset 16\n",
    "x_train_url = 'http://yann.lecun.com/exdb/mnist/train-images-idx3-ubyte.gz'\n",
    "x_test_url = 'http://yann.lecun.com/exdb/mnist/t10k-images-idx3-ubyte.gz'\n",
    "\n",
    "# data starts at index 8\n",
    "y_train_url = 'http://yann.lecun.com/exdb/mnist/train-labels-idx1-ubyte.gz'\n",
    "y_test_url = 'http://yann.lecun.com/exdb/mnist/t10k-labels-idx1-ubyte.gz'\n",
    "\n",
    "# download datasets\n",
    "x_train = fetch(x_train_url)[16:].reshape(-1, 28*28)\n",
    "y_train = fetch(y_train_url)[8:]\n",
    "\n",
    "x_test = fetch(x_test_url)[16:].reshape(-1, 28*28)\n",
    "y_test = fetch(y_test_url)[8:]\n",
    "\n",
    "# display\n",
    "i = 10\n",
    "img = x_train[i]\n",
    "print(y_train[i])\n",
    "imshow(img.reshape(28, 28))"
   ]
  },
  {
   "cell_type": "code",
   "execution_count": 3,
   "id": "4d7c9039",
   "metadata": {},
   "outputs": [],
   "source": [
    "np.random.seed(1337)\n",
    "\n",
    "# quadratic cost function\n",
    "def cost(a, y):\n",
    "    return np.square(y - a).mean(dtype=np.float32)\n",
    "\n",
    "# derivative of cost function with respect to y_pred\n",
    "def d_cost(a, y):\n",
    "    return (a - y)\n",
    "\n",
    "def get_batch(size):\n",
    "    mask = np.random.randint(0, x_train.shape[0], size=(size))\n",
    "    xx, yy = x_train[mask], y_train[mask]\n",
    "    out = np.zeros((len(yy), 10))\n",
    "    out[range(yy.shape[0]), yy] = 1\n",
    "    yy = out\n",
    "    return xx, yy\n",
    "\n",
    "def evaluate():\n",
    "    _, _, _, y_preds = forward(x_test)\n",
    "    y_preds = np.argmax(y_preds, axis=1)\n",
    "    return (y_preds == y_test).mean()\n",
    "\n",
    "def init_weights(x, y):\n",
    "    return np.random.uniform(-1., 1., size=(x, y)) / np.sqrt(x * y)"
   ]
  },
  {
   "cell_type": "code",
   "execution_count": 4,
   "id": "6bafa635",
   "metadata": {},
   "outputs": [],
   "source": [
    "def sigmoid(x):\n",
    "    return 1.0 / (1.0 + np.exp(-x))\n",
    "\n",
    "def sigmoid_prime(x):\n",
    "    return sigmoid(x) * (1 - sigmoid(x))"
   ]
  },
  {
   "cell_type": "code",
   "execution_count": 5,
   "id": "8282cf07",
   "metadata": {
    "scrolled": true
   },
   "outputs": [
    {
     "name": "stdout",
     "output_type": "stream",
     "text": [
      "(784, 128)\n",
      "(128, 10)\n"
     ]
    }
   ],
   "source": [
    "layers = (784, 128, 10)\n",
    "weights = [init_weights(x, y) for x, y in zip(layers[:-1], layers[1:])]\n",
    "for w in weights:\n",
    "    print(w.shape)"
   ]
  },
  {
   "cell_type": "code",
   "execution_count": 6,
   "id": "5e747b6e",
   "metadata": {},
   "outputs": [],
   "source": [
    "def forward(x):\n",
    "    z1 = x.dot(weights[0])\n",
    "    a1 = sigmoid(z1)\n",
    "    z2 = a1.dot(weights[1])\n",
    "    a2 = sigmoid(z2)\n",
    "    return z1, a1, z2, a2"
   ]
  },
  {
   "cell_type": "code",
   "execution_count": 7,
   "id": "a0819436",
   "metadata": {},
   "outputs": [],
   "source": [
    "def backward(z1, a1, z2, a2):\n",
    "    e2 = d_cost(a2, y) * sigmoid_prime(z2)    \n",
    "    e1 = e2.dot(weights[1].T) * sigmoid_prime(z1)\n",
    "    w2_adj = a1.T.dot(e2)\n",
    "    w1_adj = x.T.dot(e1)\n",
    "    return w1_adj, w2_adj"
   ]
  },
  {
   "cell_type": "code",
   "execution_count": 8,
   "id": "13ff6e1f",
   "metadata": {},
   "outputs": [
    {
     "name": "stderr",
     "output_type": "stream",
     "text": [
      "loss 0.03 accuracy 0.88: 100%|██████████| 1200/1200 [00:03<00:00, 326.69it/s]\n"
     ]
    }
   ],
   "source": [
    "# hyperparameters\n",
    "epochs = 1200\n",
    "lr = 0.001\n",
    "batch_size = 128\n",
    "losses, accuracies = [], []\n",
    "\n",
    "# train\n",
    "for i in (t := trange(epochs)):\n",
    "    # batch\n",
    "    x, y = get_batch(batch_size)\n",
    "    \n",
    "    # forward pass\n",
    "    z1, a1, z2, a2 = forward(x)\n",
    "    \n",
    "    # calculate loss\n",
    "    loss = cost(a2, y)\n",
    "    \n",
    "    # backwards pass\n",
    "    w1_adj, w2_adj = backward(z1, a1, z2, a2)\n",
    "    \n",
    "    # predict, calculate accuracy\n",
    "    predictions, actual = np.argmax(a2, axis=1), np.argmax(y, axis=1)\n",
    "    accuracy = np.equal(predictions, actual).mean()\n",
    "    \n",
    "    # track loss/accuracy over time\n",
    "    losses.append(loss)\n",
    "    accuracies.append(accuracy)\n",
    "    t.set_description(\"loss %.2f accuracy %.2f\" % (loss, accuracy))\n",
    "    \n",
    "    # gradient descent\n",
    "    weights[0] = weights[0] - lr * w1_adj\n",
    "    weights[1] = weights[1] - lr * w2_adj"
   ]
  },
  {
   "cell_type": "code",
   "execution_count": 9,
   "id": "7585122a",
   "metadata": {},
   "outputs": [
    {
     "data": {
      "text/plain": [
       "[<matplotlib.lines.Line2D at 0x1261ab160>]"
      ]
     },
     "execution_count": 9,
     "metadata": {},
     "output_type": "execute_result"
    },
    {
     "data": {
      "image/png": "[encoded data removed]",
      "text/plain": [
       "<Figure size 432x288 with 1 Axes>"
      ]
     },
     "metadata": {
      "needs_background": "light"
     },
     "output_type": "display_data"
    }
   ],
   "source": [
    "plt.ylim(-0.1, 1.1)\n",
    "plot(losses)\n",
    "plot(accuracies)"
   ]
  },
  {
   "cell_type": "code",
   "execution_count": 10,
   "id": "e9ccbaee",
   "metadata": {},
   "outputs": [
    {
     "data": {
      "text/plain": [
       "0.8695"
      ]
     },
     "execution_count": 10,
     "metadata": {},
     "output_type": "execute_result"
    }
   ],
   "source": [
    "evaluate()"
   ]
  },
  {
   "cell_type": "code",
   "execution_count": 11,
   "id": "74f8fac5",
   "metadata": {},
   "outputs": [
    {
     "data": {
      "text/plain": [
       "<matplotlib.image.AxesImage at 0x12621d760>"
      ]
     },
     "execution_count": 11,
     "metadata": {},
     "output_type": "execute_result"
    },
    {
     "data": {
      "image/png": "[encoded data removed]",
      "text/plain": [
       "<Figure size 432x288 with 1 Axes>"
      ]
     },
     "metadata": {
      "needs_background": "light"
     },
     "output_type": "display_data"
    }
   ],
   "source": [
    "m = [[0,0,0,0,0,0,0],\n",
    "     [0,1,0,0,1,0,0],\n",
    "     [0,1,0,0,1,0,0],\n",
    "     [0,1,1,1,1,0,0],\n",
    "     [0,0,0,0,1,0,0],\n",
    "     [0,0,0,0,1,0,0],\n",
    "     [0,0,0,0,0,0,0]]\n",
    "# upscale to 28x28\n",
    "m = np.concatenate([np.concatenate([[x]*4 for x in y]*4) for y in m])\n",
    "imshow(m.reshape(28,28))"
   ]
  },
  {
   "cell_type": "code",
   "execution_count": 12,
   "id": "929375e9",
   "metadata": {},
   "outputs": [
    {
     "name": "stdout",
     "output_type": "stream",
     "text": [
      "4\n"
     ]
    }
   ],
   "source": [
    "_, _, _, x = forward(m)\n",
    "print(np.argmax(x))"
   ]
  },
  {
   "cell_type": "code",
   "execution_count": null,
   "id": "7c26129d",
   "metadata": {},
   "outputs": [],
   "source": []
  }
 ],
 "metadata": {
  "kernelspec": {
   "display_name": "Python 3",
   "language": "python",
   "name": "python3"
  },
  "language_info": {
   "codemirror_mode": {
    "name": "ipython",
    "version": 3
   },
   "file_extension": ".py",
   "mimetype": "text/x-python",
   "name": "python",
   "nbconvert_exporter": "python",
   "pygments_lexer": "ipython3",
   "version": "3.9.7"
  }
 },
 "nbformat": 4,
 "nbformat_minor": 5
}
